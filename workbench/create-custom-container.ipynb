{
 "cells": [
  {
   "cell_type": "code",
   "execution_count": null,
   "id": "74a3119e-7f2c-4ba2-a87c-403e35795275",
   "metadata": {
    "tags": []
   },
   "outputs": [],
   "source": [
    "import os"
   ]
  },
  {
   "cell_type": "code",
   "execution_count": null,
   "id": "fc7df4de-ed67-481a-a582-0d26ee900e04",
   "metadata": {
    "tags": []
   },
   "outputs": [],
   "source": [
    "PROJECT_ID = \"PROJECT-ID\"\n",
    "LOCATION = \"us-central1\""
   ]
  },
  {
   "cell_type": "code",
   "execution_count": null,
   "id": "93386fbf-c2ef-4844-beeb-63df1da1de06",
   "metadata": {
    "tags": []
   },
   "outputs": [],
   "source": [
    "%%writefile Dockerfile\n",
    "\n",
    "FROM gcr.io/deeplearning-platform-release/workbench-container:latest\n",
    "\n",
    "USER root\n",
    "\n",
    "RUN apt-get update"
   ]
  },
  {
   "cell_type": "code",
   "execution_count": null,
   "id": "6850ab94-ec2f-4070-a212-236664dd4dcf",
   "metadata": {
    "tags": []
   },
   "outputs": [],
   "source": [
    "# Create repository in Artifact Registry -> Repositories\n",
    "\n",
    "REPOSITORY = \"my-workbench-custom-containers\"\n",
    "\n",
    "# ! gcloud artifacts repositories create {REPOSITORY} --repository-format=docker --location={LOCATION} --description=\"Docker repository\"\n",
    "\n",
    "! gcloud artifacts repositories list"
   ]
  },
  {
   "cell_type": "code",
   "execution_count": null,
   "id": "d14fd0a9-0265-4f8a-bcba-280952d24edb",
   "metadata": {
    "tags": []
   },
   "outputs": [],
   "source": [
    "CONTAINER_NAME = \"my-custom-container-2024-08-01\"\n",
    "TAG = \"latest\"\n",
    "\n",
    "WBI_IMAGE = (\n",
    "    f\"{LOCATION}-docker.pkg.dev/{PROJECT_ID}/{REPOSITORY}/{CONTAINER_NAME}:{TAG}\"\n",
    ")\n",
    "\n",
    "print(WBI_IMAGE)"
   ]
  },
  {
   "cell_type": "code",
   "execution_count": null,
   "id": "b0c1a07a-2160-4695-80cd-906f1dcbbb6a",
   "metadata": {
    "tags": []
   },
   "outputs": [],
   "source": [
    "# Compresses your application code, Dockerfile, and any other assets in the current directory as indicated by .\n",
    "\n",
    "# Uploads the files to a Cloud Storage bucket (there's a default bucket but you're free to specify a bucket on your build config);\n",
    "\n",
    "# Initiates a build using the uploaded files as input\n",
    "\n",
    "# Tags the image using the provided name; and\n",
    "\n",
    "# Pushes the built image to Artifact Registry\n",
    "\n",
    "# !gcloud builds submit --dir=\"/build\" --region={LOCATION} --tag=$WBI_IMAGE --timeout=4h\n",
    "\n",
    "# in terminal cd build and then run:\n",
    "\n",
    "# gcloud builds submit --dir=\"/build\" --region=us-central1 --tag=us-central1-docker.pkg.dev/danelias-test/my-workbench-custom-containers/my-custom-container-2024-08-01:latest --timeout=4h"
   ]
  },
  {
   "cell_type": "code",
   "execution_count": null,
   "id": "425d7a4a-8592-47ca-8464-d2e65c857051",
   "metadata": {},
   "outputs": [],
   "source": []
  }
 ],
 "metadata": {
  "environment": {
   "kernel": "conda-base-py",
   "name": "workbench-notebooks.m123",
   "type": "gcloud",
   "uri": "us-docker.pkg.dev/deeplearning-platform-release/gcr.io/workbench-notebooks:m123"
  },
  "kernelspec": {
   "display_name": "Python 3 (ipykernel) (Local) (Local)",
   "language": "python",
   "name": "conda-base-py"
  },
  "language_info": {
   "codemirror_mode": {
    "name": "ipython",
    "version": 3
   },
   "file_extension": ".py",
   "mimetype": "text/x-python",
   "name": "python",
   "nbconvert_exporter": "python",
   "pygments_lexer": "ipython3",
   "version": "3.10.14"
  }
 },
 "nbformat": 4,
 "nbformat_minor": 5
}
